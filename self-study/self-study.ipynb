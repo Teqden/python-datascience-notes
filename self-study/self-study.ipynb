{
 "cells": [
  {
   "cell_type": "markdown",
   "metadata": {},
   "source": [
    "在terminal中安装：`pip install pandas`，或直接在notebook中安装：`%pip install pandas`。\n",
    "然后在文件中引进：`import pandas as pd`。"
   ]
  },
  {
   "cell_type": "code",
   "execution_count": 26,
   "metadata": {},
   "outputs": [],
   "source": [
    "import pandas as pd"
   ]
  },
  {
   "cell_type": "markdown",
   "metadata": {},
   "source": [
    "接着读取数据：`pd.read_csv('path-to-the-file.csv')`，如果需要，使用`sep`添加分隔符。"
   ]
  },
  {
   "cell_type": "code",
   "execution_count": 27,
   "metadata": {},
   "outputs": [],
   "source": [
    "df = pd.read_csv('../self-study/dataset/set13_it1.csv',sep=',')"
   ]
  },
  {
   "cell_type": "code",
   "execution_count": 28,
   "metadata": {},
   "outputs": [
    {
     "name": "stdout",
     "output_type": "stream",
     "text": [
      "<class 'pandas.core.frame.DataFrame'>\n",
      "RangeIndex: 2363 entries, 0 to 2362\n",
      "Data columns (total 7 columns):\n",
      " #   Column          Non-Null Count  Dtype  \n",
      "---  ------          --------------  -----  \n",
      " 0   DI              2363 non-null   int64  \n",
      " 1   TradeValue      2363 non-null   float64\n",
      " 2   RealmType       2363 non-null   object \n",
      " 3   Enclave         2363 non-null   object \n",
      " 4   LivingQuarters  2244 non-null   float64\n",
      " 5   ParcelSize      2363 non-null   float64\n",
      " 6   ParcelSizeUnit  2363 non-null   object \n",
      "dtypes: float64(3), int64(1), object(3)\n",
      "memory usage: 129.4+ KB\n"
     ]
    }
   ],
   "source": [
    "# 提供dataset的概要信息，包括每列的名称、数据类型、非空值数量和内存使用情况。\n",
    "# 通过它检查是否有缺失值（查看Non-Null这一列），确认每列的数据类型是否正确（查看Dtype这一列）。\n",
    "df.info()"
   ]
  },
  {
   "cell_type": "markdown",
   "metadata": {},
   "source": [
    "使用 `.head()` (前几行), `.tail()` (最后几行) 和 `.sample()` (随机某一行) 来展示默认五行的内容，也可以通过传参来指定数量：`df.head(10)`。"
   ]
  },
  {
   "cell_type": "code",
   "execution_count": 29,
   "metadata": {},
   "outputs": [
    {
     "data": {
      "text/html": [
       "<div>\n",
       "<style scoped>\n",
       "    .dataframe tbody tr th:only-of-type {\n",
       "        vertical-align: middle;\n",
       "    }\n",
       "\n",
       "    .dataframe tbody tr th {\n",
       "        vertical-align: top;\n",
       "    }\n",
       "\n",
       "    .dataframe thead th {\n",
       "        text-align: right;\n",
       "    }\n",
       "</style>\n",
       "<table border=\"1\" class=\"dataframe\">\n",
       "  <thead>\n",
       "    <tr style=\"text-align: right;\">\n",
       "      <th></th>\n",
       "      <th>DI</th>\n",
       "      <th>TradeValue</th>\n",
       "      <th>RealmType</th>\n",
       "      <th>Enclave</th>\n",
       "      <th>LivingQuarters</th>\n",
       "      <th>ParcelSize</th>\n",
       "      <th>ParcelSizeUnit</th>\n",
       "    </tr>\n",
       "  </thead>\n",
       "  <tbody>\n",
       "    <tr>\n",
       "      <th>0</th>\n",
       "      <td>0</td>\n",
       "      <td>147000.0</td>\n",
       "      <td>Meadowlands</td>\n",
       "      <td>Brightforge</td>\n",
       "      <td>766.0</td>\n",
       "      <td>9069.0</td>\n",
       "      <td>sqft</td>\n",
       "    </tr>\n",
       "    <tr>\n",
       "      <th>1</th>\n",
       "      <td>1</td>\n",
       "      <td>98000.0</td>\n",
       "      <td>GnomeBurough</td>\n",
       "      <td>Petalbridge</td>\n",
       "      <td>1033.0</td>\n",
       "      <td>4571.0</td>\n",
       "      <td>sqft</td>\n",
       "    </tr>\n",
       "    <tr>\n",
       "      <th>2</th>\n",
       "      <td>2</td>\n",
       "      <td>325624.0</td>\n",
       "      <td>Meadowlands</td>\n",
       "      <td>Silverglen</td>\n",
       "      <td>1662.0</td>\n",
       "      <td>10562.0</td>\n",
       "      <td>sqft</td>\n",
       "    </tr>\n",
       "    <tr>\n",
       "      <th>3</th>\n",
       "      <td>3</td>\n",
       "      <td>178000.0</td>\n",
       "      <td>Meadowlands</td>\n",
       "      <td>Brightforge</td>\n",
       "      <td>1332.0</td>\n",
       "      <td>9206.0</td>\n",
       "      <td>sqft</td>\n",
       "    </tr>\n",
       "    <tr>\n",
       "      <th>4</th>\n",
       "      <td>4</td>\n",
       "      <td>154900.0</td>\n",
       "      <td>Meadowlands</td>\n",
       "      <td>Thornfield</td>\n",
       "      <td>1033.0</td>\n",
       "      <td>7681.0</td>\n",
       "      <td>sqft</td>\n",
       "    </tr>\n",
       "  </tbody>\n",
       "</table>\n",
       "</div>"
      ],
      "text/plain": [
       "   DI  TradeValue     RealmType      Enclave  LivingQuarters  ParcelSize  \\\n",
       "0   0    147000.0   Meadowlands  Brightforge           766.0      9069.0   \n",
       "1   1     98000.0  GnomeBurough  Petalbridge          1033.0      4571.0   \n",
       "2   2    325624.0   Meadowlands   Silverglen          1662.0     10562.0   \n",
       "3   3    178000.0   Meadowlands  Brightforge          1332.0      9206.0   \n",
       "4   4    154900.0   Meadowlands   Thornfield          1033.0      7681.0   \n",
       "\n",
       "  ParcelSizeUnit  \n",
       "0           sqft  \n",
       "1           sqft  \n",
       "2           sqft  \n",
       "3           sqft  \n",
       "4           sqft  "
      ]
     },
     "execution_count": 29,
     "metadata": {},
     "output_type": "execute_result"
    }
   ],
   "source": [
    "# 快速预览数据的内容和格式，看看数据长什么样。也可以用来检查数据是否正确加载，有无乱码。在结束数据清洗后，可以用它来确认前几行是否符合预期。\n",
    "df.head()"
   ]
  },
  {
   "cell_type": "code",
   "execution_count": 30,
   "metadata": {},
   "outputs": [
    {
     "data": {
      "text/html": [
       "<div>\n",
       "<style scoped>\n",
       "    .dataframe tbody tr th:only-of-type {\n",
       "        vertical-align: middle;\n",
       "    }\n",
       "\n",
       "    .dataframe tbody tr th {\n",
       "        vertical-align: top;\n",
       "    }\n",
       "\n",
       "    .dataframe thead th {\n",
       "        text-align: right;\n",
       "    }\n",
       "</style>\n",
       "<table border=\"1\" class=\"dataframe\">\n",
       "  <thead>\n",
       "    <tr style=\"text-align: right;\">\n",
       "      <th></th>\n",
       "      <th>DI</th>\n",
       "      <th>TradeValue</th>\n",
       "      <th>RealmType</th>\n",
       "      <th>Enclave</th>\n",
       "      <th>LivingQuarters</th>\n",
       "      <th>ParcelSize</th>\n",
       "      <th>ParcelSizeUnit</th>\n",
       "    </tr>\n",
       "  </thead>\n",
       "  <tbody>\n",
       "    <tr>\n",
       "      <th>2361</th>\n",
       "      <td>2338</td>\n",
       "      <td>188000.0</td>\n",
       "      <td>Meadowlands</td>\n",
       "      <td>Brightforge</td>\n",
       "      <td>1304.0</td>\n",
       "      <td>10110.0</td>\n",
       "      <td>sqft</td>\n",
       "    </tr>\n",
       "    <tr>\n",
       "      <th>2362</th>\n",
       "      <td>2339</td>\n",
       "      <td>170000.0</td>\n",
       "      <td>Meadowlands</td>\n",
       "      <td>Sunspire</td>\n",
       "      <td>1073.0</td>\n",
       "      <td>11069.0</td>\n",
       "      <td>sqft</td>\n",
       "    </tr>\n",
       "  </tbody>\n",
       "</table>\n",
       "</div>"
      ],
      "text/plain": [
       "        DI  TradeValue    RealmType      Enclave  LivingQuarters  ParcelSize  \\\n",
       "2361  2338    188000.0  Meadowlands  Brightforge          1304.0     10110.0   \n",
       "2362  2339    170000.0  Meadowlands     Sunspire          1073.0     11069.0   \n",
       "\n",
       "     ParcelSizeUnit  \n",
       "2361           sqft  \n",
       "2362           sqft  "
      ]
     },
     "execution_count": 30,
     "metadata": {},
     "output_type": "execute_result"
    }
   ],
   "source": [
    "# 和head()类似，但关注数据的末尾。它可以用来查看数据集的完整性，确认末尾数据是否正常，并且在数据排序后检查最后几行是否符合预期。\n",
    "df.tail(2)"
   ]
  },
  {
   "cell_type": "code",
   "execution_count": 31,
   "metadata": {},
   "outputs": [
    {
     "data": {
      "text/html": [
       "<div>\n",
       "<style scoped>\n",
       "    .dataframe tbody tr th:only-of-type {\n",
       "        vertical-align: middle;\n",
       "    }\n",
       "\n",
       "    .dataframe tbody tr th {\n",
       "        vertical-align: top;\n",
       "    }\n",
       "\n",
       "    .dataframe thead th {\n",
       "        text-align: right;\n",
       "    }\n",
       "</style>\n",
       "<table border=\"1\" class=\"dataframe\">\n",
       "  <thead>\n",
       "    <tr style=\"text-align: right;\">\n",
       "      <th></th>\n",
       "      <th>DI</th>\n",
       "      <th>TradeValue</th>\n",
       "      <th>RealmType</th>\n",
       "      <th>Enclave</th>\n",
       "      <th>LivingQuarters</th>\n",
       "      <th>ParcelSize</th>\n",
       "      <th>ParcelSizeUnit</th>\n",
       "    </tr>\n",
       "  </thead>\n",
       "  <tbody>\n",
       "    <tr>\n",
       "      <th>223</th>\n",
       "      <td>220</td>\n",
       "      <td>248328.0</td>\n",
       "      <td>Meadowlands</td>\n",
       "      <td>Wyverncliff</td>\n",
       "      <td>1299.0</td>\n",
       "      <td>9849.0</td>\n",
       "      <td>sqft</td>\n",
       "    </tr>\n",
       "  </tbody>\n",
       "</table>\n",
       "</div>"
      ],
      "text/plain": [
       "      DI  TradeValue    RealmType      Enclave  LivingQuarters  ParcelSize  \\\n",
       "223  220    248328.0  Meadowlands  Wyverncliff          1299.0      9849.0   \n",
       "\n",
       "    ParcelSizeUnit  \n",
       "223           sqft  "
      ]
     },
     "execution_count": 31,
     "metadata": {},
     "output_type": "execute_result"
    }
   ],
   "source": [
    "# 比head()和tail()更全面地预览数据，因为它随机选择，避免只看到开头或结尾。当怀疑数据分布不均匀时，可以用它来检查。\n",
    "df.sample()"
   ]
  },
  {
   "cell_type": "code",
   "execution_count": 32,
   "metadata": {},
   "outputs": [
    {
     "data": {
      "text/html": [
       "<div>\n",
       "<style scoped>\n",
       "    .dataframe tbody tr th:only-of-type {\n",
       "        vertical-align: middle;\n",
       "    }\n",
       "\n",
       "    .dataframe tbody tr th {\n",
       "        vertical-align: top;\n",
       "    }\n",
       "\n",
       "    .dataframe thead th {\n",
       "        text-align: right;\n",
       "    }\n",
       "</style>\n",
       "<table border=\"1\" class=\"dataframe\">\n",
       "  <thead>\n",
       "    <tr style=\"text-align: right;\">\n",
       "      <th></th>\n",
       "      <th>DI</th>\n",
       "      <th>TradeValue</th>\n",
       "      <th>LivingQuarters</th>\n",
       "      <th>ParcelSize</th>\n",
       "    </tr>\n",
       "  </thead>\n",
       "  <tbody>\n",
       "    <tr>\n",
       "      <th>count</th>\n",
       "      <td>2363.000000</td>\n",
       "      <td>2363.000000</td>\n",
       "      <td>2244.000000</td>\n",
       "      <td>2363.000000</td>\n",
       "    </tr>\n",
       "    <tr>\n",
       "      <th>mean</th>\n",
       "      <td>1169.975032</td>\n",
       "      <td>181043.250491</td>\n",
       "      <td>1153.898396</td>\n",
       "      <td>9843.480771</td>\n",
       "    </tr>\n",
       "    <tr>\n",
       "      <th>std</th>\n",
       "      <td>675.071928</td>\n",
       "      <td>82398.823979</td>\n",
       "      <td>390.602425</td>\n",
       "      <td>7297.756555</td>\n",
       "    </tr>\n",
       "    <tr>\n",
       "      <th>min</th>\n",
       "      <td>0.000000</td>\n",
       "      <td>85.000000</td>\n",
       "      <td>256.000000</td>\n",
       "      <td>-15676.000000</td>\n",
       "    </tr>\n",
       "    <tr>\n",
       "      <th>25%</th>\n",
       "      <td>586.500000</td>\n",
       "      <td>129650.000000</td>\n",
       "      <td>866.000000</td>\n",
       "      <td>7226.500000</td>\n",
       "    </tr>\n",
       "    <tr>\n",
       "      <th>50%</th>\n",
       "      <td>1171.000000</td>\n",
       "      <td>160000.000000</td>\n",
       "      <td>1115.500000</td>\n",
       "      <td>9345.000000</td>\n",
       "    </tr>\n",
       "    <tr>\n",
       "      <th>75%</th>\n",
       "      <td>1751.500000</td>\n",
       "      <td>213000.000000</td>\n",
       "      <td>1338.000000</td>\n",
       "      <td>11475.000000</td>\n",
       "    </tr>\n",
       "    <tr>\n",
       "      <th>max</th>\n",
       "      <td>2339.000000</td>\n",
       "      <td>755000.000000</td>\n",
       "      <td>4339.000000</td>\n",
       "      <td>164660.000000</td>\n",
       "    </tr>\n",
       "  </tbody>\n",
       "</table>\n",
       "</div>"
      ],
      "text/plain": [
       "                DI     TradeValue  LivingQuarters     ParcelSize\n",
       "count  2363.000000    2363.000000     2244.000000    2363.000000\n",
       "mean   1169.975032  181043.250491     1153.898396    9843.480771\n",
       "std     675.071928   82398.823979      390.602425    7297.756555\n",
       "min       0.000000      85.000000      256.000000  -15676.000000\n",
       "25%     586.500000  129650.000000      866.000000    7226.500000\n",
       "50%    1171.000000  160000.000000     1115.500000    9345.000000\n",
       "75%    1751.500000  213000.000000     1338.000000   11475.000000\n",
       "max    2339.000000  755000.000000     4339.000000  164660.000000"
      ]
     },
     "execution_count": 32,
     "metadata": {},
     "output_type": "execute_result"
    }
   ],
   "source": [
    "# 提供数值列的统计概要，包括计数、均值、标准差、最小值、最大值和分位数。\n",
    "# 可以用它快速了解数据的统计特性，比如分布范围、集中趋势和离散程度。以及用来发现异常值（比如平均年龄是35岁，最大值却是120岁）。\n",
    "df.describe()"
   ]
  },
  {
   "cell_type": "markdown",
   "metadata": {},
   "source": [
    "|数据|说明|计算方式|Pandas函数|\n",
    "|--|--|--|--|\n",
    "|count|数据集中非缺失值的数量（即有效数据的行数）|统计每列中非NaN的元素个数|`df['TradeValue'].count()`|\n",
    "|mean|平均值，数据的中心趋势，对异常值(outliers)很敏感|所有值的总和除以值的个数：`sum(x) / n`|`df['TradeValue'].mean()`|\n",
    "|std|标准差，衡量数据的离散程度（值越大数据越分散）|`sqrt(Σ(x - mean)² / (n-1))`，样本标准差|`df['TradeValue'].std()`|\n",
    "|min|最小值，数据中的最低值|直接取列中的最小值|`df['TradeValue'].min()`|\n",
    "|25%|第一四分位数（Q1），它是数据“较低部分”的代表值|把数据排序后，找到一个值，使得25%的数值低于它，75%的数值高于它|`df['TradeValue'].quantile(0.25)`|\n",
    "|50%（median）|第二四分位数（Q2），它是数据的“中间值”，也就是中位数|数据排序后，50%的数值低于它，50%的数值高于它|`df['TradeValue'].median()`|\n",
    "|75%|第三四分位数（Q3），它是数据“较高部分”的代表值|数据排序后，75%的数值低于它，25%的数值高于它|`df['TradeValue'].quantile(0.75)`|\n",
    "|max|最大值，数据中的最高值|直接取列中的最大值|`df['TradeValue'].max()`|\n"
   ]
  },
  {
   "cell_type": "code",
   "execution_count": 33,
   "metadata": {},
   "outputs": [
    {
     "data": {
      "text/plain": [
       "0    135000.0\n",
       "Name: TradeValue, dtype: float64"
      ]
     },
     "execution_count": 33,
     "metadata": {},
     "output_type": "execute_result"
    }
   ],
   "source": [
    "# 使用 mode() 可以计算众数，即数据集中出现次数最多的值（或多个值），它反映数据的“最常见情况”。\n",
    "# 一个数据集可能有一个或多个众数，也可能没有众数。它适用于任何类型的数据（数值、字符串等），不像均值和中位数那样只针对数值。\n",
    "df['TradeValue'].mode()"
   ]
  },
  {
   "cell_type": "code",
   "execution_count": 34,
   "metadata": {},
   "outputs": [
    {
     "name": "stdout",
     "output_type": "stream",
     "text": [
      "The unique values are:  ['Brightforge' 'Petalbridge' 'Silverglen' 'Thornfield' 'Shadowmere'\n",
      " 'Dragonspire' 'Mossheart' 'Mystvale' 'Sunspire' 'Crystalhollow'\n",
      " 'Dreamweaver' 'Emberfall' 'Stormwatch' 'Wyverncliff' 'Wolfsbane'\n",
      " 'Nighthaven' 'Riverbend' 'Duskwood' 'Stormhold' 'Glimmerwood'\n",
      " 'glimmerwood' 'Ravenstone' 'Starfall' 'Windwhisper' 'Verdantia'\n",
      " 'Cloudrest' 'PETALBRIDGE' 'Oakenshade' 'Dragonspires' 'SHADOWMERE'\n",
      " 'Brightforges' 'ravenstone' 'DRAGONSPIRE' 'duskwood' 'STARFALL'\n",
      " 'SUNSPIRE' 'windwhisper' 'petalbridge' 'Moonglade' 'emberfall'\n",
      " 'wyverncliff' 'BRIGHTFORGE' 'EMBERFALL' 'SILVERGLEN' 'GLIMMERWOOD'\n",
      " 'RAVENSTONE']\n",
      "The unique values in tatal:  46\n",
      "The rows in total:  46\n"
     ]
    }
   ],
   "source": [
    "# 想要查看类别、种类，或者找重复项时，可以使用 unique() 来返回一个数组，其中会包含数据中某一列里的所有唯一值。\n",
    "# 使用的时候必须指定 列 ，如果数据中有缺失值，那么NaN也会被当作一个值。\n",
    "unique_values = df['Enclave'].unique()\n",
    "print(\"The unique values are: \",unique_values)\n",
    "print(\"The unique values in tatal: \" ,len(unique_values))\n",
    "print(\"The rows in total: \", len(unique_values))"
   ]
  },
  {
   "cell_type": "markdown",
   "metadata": {},
   "source": [
    "可视化数据可以更直观的观察。<br>\n",
    "在terminal中安装：`pip install matplotlib`，然后在文件中引进：`import matplotlib.pyplot as plt`。"
   ]
  },
  {
   "cell_type": "code",
   "execution_count": 35,
   "metadata": {},
   "outputs": [],
   "source": [
    "import matplotlib.pyplot as plt"
   ]
  },
  {
   "cell_type": "code",
   "execution_count": 36,
   "metadata": {},
   "outputs": [
    {
     "data": {
      "image/png": "[encoded data removed]",
      "text/plain": [
       "<Figure size 640x480 with 1 Axes>"
      ]
     },
     "metadata": {},
     "output_type": "display_data"
    }
   ],
   "source": [
    "plt.hist(df['TradeValue'], bins=20, color='skyblue', edgecolor='black', alpha=0.7) # edgecolor为柱子边框颜色；alpha为透明度，取值区间 0-1。\n",
    "plt.title('Distribution of Trade Value', fontsize=16, color='blue') # color 也可以使用十六进制(#FF5733)自定义\n",
    "plt.xlabel('Trade Value', fontsize=12, color='red')\n",
    "plt.ylabel('Frequency', fontsize=12, color='green')\n",
    "plt.grid(True, linestyle='--', alpha=0.3, color='purple') # 添加背景网格线\n",
    "plt.show()"
   ]
  },
  {
   "cell_type": "markdown",
   "metadata": {},
   "source": [
    "可以使用 `loc()` 或 `iloc()` 来筛选数据。<br>\n",
    "在数据分析中，筛选数据是为了着重关注某个感兴趣的部分，比如只看某个区域的房子，或只看价格超过某个数值的房子。<br>\n",
    "还可以为可视化或统计做准备，即筛选出特定数据后，接着画图或计算均值。"
   ]
  },
  {
   "cell_type": "markdown",
   "metadata": {},
   "source": [
    "`loc()` 是基于标签和条件进行筛选，适合按列名和逻辑条件来操作。"
   ]
  },
  {
   "cell_type": "code",
   "execution_count": 40,
   "metadata": {},
   "outputs": [
    {
     "data": {
      "text/html": [
       "<div>\n",
       "<style scoped>\n",
       "    .dataframe tbody tr th:only-of-type {\n",
       "        vertical-align: middle;\n",
       "    }\n",
       "\n",
       "    .dataframe tbody tr th {\n",
       "        vertical-align: top;\n",
       "    }\n",
       "\n",
       "    .dataframe thead th {\n",
       "        text-align: right;\n",
       "    }\n",
       "</style>\n",
       "<table border=\"1\" class=\"dataframe\">\n",
       "  <thead>\n",
       "    <tr style=\"text-align: right;\">\n",
       "      <th></th>\n",
       "      <th>DI</th>\n",
       "      <th>TradeValue</th>\n",
       "      <th>RealmType</th>\n",
       "      <th>Enclave</th>\n",
       "      <th>LivingQuarters</th>\n",
       "      <th>ParcelSize</th>\n",
       "      <th>ParcelSizeUnit</th>\n",
       "    </tr>\n",
       "  </thead>\n",
       "  <tbody>\n",
       "    <tr>\n",
       "      <th>0</th>\n",
       "      <td>0</td>\n",
       "      <td>147000.0</td>\n",
       "      <td>Meadowlands</td>\n",
       "      <td>Brightforge</td>\n",
       "      <td>766.0</td>\n",
       "      <td>9069.0</td>\n",
       "      <td>sqft</td>\n",
       "    </tr>\n",
       "    <tr>\n",
       "      <th>2</th>\n",
       "      <td>2</td>\n",
       "      <td>325624.0</td>\n",
       "      <td>Meadowlands</td>\n",
       "      <td>Silverglen</td>\n",
       "      <td>1662.0</td>\n",
       "      <td>10562.0</td>\n",
       "      <td>sqft</td>\n",
       "    </tr>\n",
       "    <tr>\n",
       "      <th>3</th>\n",
       "      <td>3</td>\n",
       "      <td>178000.0</td>\n",
       "      <td>Meadowlands</td>\n",
       "      <td>Brightforge</td>\n",
       "      <td>1332.0</td>\n",
       "      <td>9206.0</td>\n",
       "      <td>sqft</td>\n",
       "    </tr>\n",
       "    <tr>\n",
       "      <th>4</th>\n",
       "      <td>4</td>\n",
       "      <td>154900.0</td>\n",
       "      <td>Meadowlands</td>\n",
       "      <td>Thornfield</td>\n",
       "      <td>1033.0</td>\n",
       "      <td>7681.0</td>\n",
       "      <td>sqft</td>\n",
       "    </tr>\n",
       "    <tr>\n",
       "      <th>5</th>\n",
       "      <td>5</td>\n",
       "      <td>111000.0</td>\n",
       "      <td>Meadowlands</td>\n",
       "      <td>Shadowmere</td>\n",
       "      <td>729.0</td>\n",
       "      <td>10215.0</td>\n",
       "      <td>sqft</td>\n",
       "    </tr>\n",
       "  </tbody>\n",
       "</table>\n",
       "</div>"
      ],
      "text/plain": [
       "   DI  TradeValue    RealmType      Enclave  LivingQuarters  ParcelSize  \\\n",
       "0   0    147000.0  Meadowlands  Brightforge           766.0      9069.0   \n",
       "2   2    325624.0  Meadowlands   Silverglen          1662.0     10562.0   \n",
       "3   3    178000.0  Meadowlands  Brightforge          1332.0      9206.0   \n",
       "4   4    154900.0  Meadowlands   Thornfield          1033.0      7681.0   \n",
       "5   5    111000.0  Meadowlands   Shadowmere           729.0     10215.0   \n",
       "\n",
       "  ParcelSizeUnit  \n",
       "0           sqft  \n",
       "2           sqft  \n",
       "3           sqft  \n",
       "4           sqft  \n",
       "5           sqft  "
      ]
     },
     "execution_count": 40,
     "metadata": {},
     "output_type": "execute_result"
    }
   ],
   "source": [
    "# 1. 筛选所有“Meadowlands”区域的房产\n",
    "meadowlands = df.loc[df['RealmType'] == 'Meadowlands']\n",
    "meadowlands.head(5)"
   ]
  },
  {
   "cell_type": "code",
   "execution_count": null,
   "metadata": {},
   "outputs": [
    {
     "data": {
      "text/html": [
       "<div>\n",
       "<style scoped>\n",
       "    .dataframe tbody tr th:only-of-type {\n",
       "        vertical-align: middle;\n",
       "    }\n",
       "\n",
       "    .dataframe tbody tr th {\n",
       "        vertical-align: top;\n",
       "    }\n",
       "\n",
       "    .dataframe thead th {\n",
       "        text-align: right;\n",
       "    }\n",
       "</style>\n",
       "<table border=\"1\" class=\"dataframe\">\n",
       "  <thead>\n",
       "    <tr style=\"text-align: right;\">\n",
       "      <th></th>\n",
       "      <th>DI</th>\n",
       "      <th>TradeValue</th>\n",
       "      <th>RealmType</th>\n",
       "      <th>Enclave</th>\n",
       "      <th>LivingQuarters</th>\n",
       "      <th>ParcelSize</th>\n",
       "      <th>ParcelSizeUnit</th>\n",
       "    </tr>\n",
       "  </thead>\n",
       "  <tbody>\n",
       "    <tr>\n",
       "      <th>102</th>\n",
       "      <td>102</td>\n",
       "      <td>755000.0</td>\n",
       "      <td>Meadowlands</td>\n",
       "      <td>Glimmerwood</td>\n",
       "      <td>3319.0</td>\n",
       "      <td>21535.0</td>\n",
       "      <td>sqft</td>\n",
       "    </tr>\n",
       "    <tr>\n",
       "      <th>360</th>\n",
       "      <td>357</td>\n",
       "      <td>745000.0</td>\n",
       "      <td>Meadowlands</td>\n",
       "      <td>Glimmerwood</td>\n",
       "      <td>3443.0</td>\n",
       "      <td>15623.0</td>\n",
       "      <td>sqft</td>\n",
       "    </tr>\n",
       "  </tbody>\n",
       "</table>\n",
       "</div>"
      ],
      "text/plain": [
       "      DI  TradeValue    RealmType      Enclave  LivingQuarters  ParcelSize  \\\n",
       "102  102    755000.0  Meadowlands  Glimmerwood          3319.0     21535.0   \n",
       "360  357    745000.0  Meadowlands  Glimmerwood          3443.0     15623.0   \n",
       "\n",
       "    ParcelSizeUnit  \n",
       "102           sqft  \n",
       "360           sqft  "
      ]
     },
     "execution_count": 43,
     "metadata": {},
     "output_type": "execute_result"
    }
   ],
   "source": [
    "# 2. 筛选交易价值超过20万且居住面积大于3000的房产\n",
    "high_value_large = df.loc[(df['TradeValue'] > 200000) & (df['LivingQuarters'] > 3000)] # 条件要用括号括起来，多个条件之间用 &（且）、|（或）\n",
    "high_value_large.head(5)"
   ]
  },
  {
   "cell_type": "code",
   "execution_count": null,
   "metadata": {},
   "outputs": [
    {
     "name": "stdout",
     "output_type": "stream",
     "text": [
      "          Enclave  TradeValue\n",
      "91    Windwhisper    277000.0\n",
      "791   Windwhisper    302000.0\n",
      "1025   Ravenstone    228950.0\n"
     ]
    }
   ],
   "source": [
    "# 3. 筛选“Meadowlands”区域且地块大小大于90000的房产，只显示名称和价格\n",
    "meadowlands_large = df.loc[(df['RealmType'] == 'Meadowlands') & (df['ParcelSize'] > 90000), ['Enclave', 'TradeValue']] # 加上列名列表，只返回指定的列\n",
    "print(meadowlands_large)"
   ]
  },
  {
   "cell_type": "markdown",
   "metadata": {},
   "source": [
    "`iloc()` 是基于整数位置进行筛选，适合按行号和列号来操作。"
   ]
  },
  {
   "cell_type": "code",
   "execution_count": null,
   "metadata": {},
   "outputs": [
    {
     "name": "stdout",
     "output_type": "stream",
     "text": [
      "   DI  TradeValue     RealmType      Enclave  LivingQuarters  ParcelSize  \\\n",
      "0   0    147000.0   Meadowlands  Brightforge           766.0      9069.0   \n",
      "1   1     98000.0  GnomeBurough  Petalbridge          1033.0      4571.0   \n",
      "\n",
      "  ParcelSizeUnit  \n",
      "0           sqft  \n",
      "1           sqft  \n"
     ]
    }
   ],
   "source": [
    "# 1. 提取前2行所有列\n",
    "first_two = df.iloc[0:2] # 0:2表示第0行到第1行（不含第2行）\n",
    "print(first_two)"
   ]
  },
  {
   "cell_type": "code",
   "execution_count": null,
   "metadata": {},
   "outputs": [
    {
     "data": {
      "text/html": [
       "<div>\n",
       "<style scoped>\n",
       "    .dataframe tbody tr th:only-of-type {\n",
       "        vertical-align: middle;\n",
       "    }\n",
       "\n",
       "    .dataframe tbody tr th {\n",
       "        vertical-align: top;\n",
       "    }\n",
       "\n",
       "    .dataframe thead th {\n",
       "        text-align: right;\n",
       "    }\n",
       "</style>\n",
       "<table border=\"1\" class=\"dataframe\">\n",
       "  <thead>\n",
       "    <tr style=\"text-align: right;\">\n",
       "      <th></th>\n",
       "      <th>DI</th>\n",
       "      <th>TradeValue</th>\n",
       "      <th>RealmType</th>\n",
       "    </tr>\n",
       "  </thead>\n",
       "  <tbody>\n",
       "    <tr>\n",
       "      <th>0</th>\n",
       "      <td>0</td>\n",
       "      <td>147000.0</td>\n",
       "      <td>Meadowlands</td>\n",
       "    </tr>\n",
       "    <tr>\n",
       "      <th>1</th>\n",
       "      <td>1</td>\n",
       "      <td>98000.0</td>\n",
       "      <td>GnomeBurough</td>\n",
       "    </tr>\n",
       "    <tr>\n",
       "      <th>2</th>\n",
       "      <td>2</td>\n",
       "      <td>325624.0</td>\n",
       "      <td>Meadowlands</td>\n",
       "    </tr>\n",
       "    <tr>\n",
       "      <th>3</th>\n",
       "      <td>3</td>\n",
       "      <td>178000.0</td>\n",
       "      <td>Meadowlands</td>\n",
       "    </tr>\n",
       "    <tr>\n",
       "      <th>4</th>\n",
       "      <td>4</td>\n",
       "      <td>154900.0</td>\n",
       "      <td>Meadowlands</td>\n",
       "    </tr>\n",
       "    <tr>\n",
       "      <th>5</th>\n",
       "      <td>5</td>\n",
       "      <td>111000.0</td>\n",
       "      <td>Meadowlands</td>\n",
       "    </tr>\n",
       "  </tbody>\n",
       "</table>\n",
       "</div>"
      ],
      "text/plain": [
       "   DI  TradeValue     RealmType\n",
       "0   0    147000.0   Meadowlands\n",
       "1   1     98000.0  GnomeBurough\n",
       "2   2    325624.0   Meadowlands\n",
       "3   3    178000.0   Meadowlands\n",
       "4   4    154900.0   Meadowlands\n",
       "5   5    111000.0   Meadowlands"
      ]
     },
     "execution_count": 48,
     "metadata": {},
     "output_type": "execute_result"
    }
   ],
   "source": [
    "# 2. 提取所有行的前3列\n",
    "first_three_cols = df.iloc[:, 0:3] # :表示所有行，0:3表示第0到第2列（不含第3列）\n",
    "first_three_cols.head(6)"
   ]
  },
  {
   "cell_type": "code",
   "execution_count": null,
   "metadata": {},
   "outputs": [
    {
     "name": "stdout",
     "output_type": "stream",
     "text": [
      "      RealmType      Enclave\n",
      "1  GnomeBurough  Petalbridge\n",
      "2   Meadowlands   Silverglen\n"
     ]
    }
   ],
   "source": [
    "# 3. 提取第1到第2行，第2到第3列\n",
    "subset = df.iloc[1:3, 2:4] # 1:3是第1到第2行，2:4是第2到第3列\n",
    "print(subset)"
   ]
  },
  {
   "cell_type": "code",
   "execution_count": null,
   "metadata": {},
   "outputs": [
    {
     "name": "stdout",
     "output_type": "stream",
     "text": [
      "      ParcelSize ParcelSizeUnit\n",
      "2362     11069.0           sqft\n"
     ]
    }
   ],
   "source": [
    "# 4. 提取最后一行，最后两列\n",
    "last_row_last_two = df.iloc[-1:, -2:] # -1:表示最后一行，-2:表示最后两列\n",
    "print(last_row_last_two)"
   ]
  },
  {
   "cell_type": "markdown",
   "metadata": {},
   "source": [
    "根据之前运行 `head()` 和 `describe()`的结果，可以发现数据集存在一些问题。<br>\n",
    "这个数据集有2363行，7列。<br>\n",
    "**缺失值**：Non-Null` 列发现 LivingQuarters 有119个缺失值（其他列有2363行，LQ列只有2244行）。<br>\n",
    "**异常值**：eValue 最小值为85，房产价格通常不该这么低。ParcelSize 最小值为-15676，但地块大小不可能为负数。<br>\n",
    "**潜在问题**：1. RealmType 和 Enclave 的数据类型为string，这两列可能会存在拼写错误或大小写不一致的问题；2. ParcelSizeUnit 可能存在单位不一致的情况（sqft vs sqm）。"
   ]
  },
  {
   "cell_type": "markdown",
   "metadata": {},
   "source": [
    "接下来，将按照以下步骤清理数据：\n",
    "1. 检查和处理重复值（`duplicated()`, `drop_duplicates()`）；\n",
    "2. 处理缺失值（`dropna()`）；\n",
    "3. 检查和统一字符串格式（`unique()`, `str.lower()/str.upper()/str.capitalize()`, `str.replace()`），并修正不一致单位（ParcelSizeUnit）；\n",
    "4. 移除异常值（比如负值或不合理的TradeValue和ParcelSize）；\n",
    "5. 验证清理结果，并将清理后的数据保存为新的数据集。"
   ]
  },
  {
   "cell_type": "markdown",
   "metadata": {},
   "source": [
    "第一步，使用 `df.duplicated().sum()` 检查共有多少行数据是重复的，接着使用 `df.drop_duplicates()` 删除掉重复的行，并将返回的新数据存储在新变量 `dfx` 中。"
   ]
  },
  {
   "cell_type": "code",
   "execution_count": 51,
   "metadata": {},
   "outputs": [
    {
     "name": "stdout",
     "output_type": "stream",
     "text": [
      "重复行数量: 23\n"
     ]
    }
   ],
   "source": [
    "# 检查重复行\n",
    "print(\"重复行数量:\", df.duplicated().sum())"
   ]
  },
  {
   "cell_type": "code",
   "execution_count": 52,
   "metadata": {},
   "outputs": [
    {
     "name": "stdout",
     "output_type": "stream",
     "text": [
      "删除重复行后，数据行数: 2340\n"
     ]
    }
   ],
   "source": [
    "# 删除重复行\n",
    "dfx = df.drop_duplicates()\n",
    "print(\"删除重复行后，数据行数:\", len(dfx))"
   ]
  },
  {
   "cell_type": "markdown",
   "metadata": {},
   "source": [
    "第二步，用 `df.dropna()` 删除所有包含缺失值的行。"
   ]
  },
  {
   "cell_type": "code",
   "execution_count": 54,
   "metadata": {},
   "outputs": [
    {
     "name": "stdout",
     "output_type": "stream",
     "text": [
      "删除缺失值后，数据行数: 2223\n",
      "<class 'pandas.core.frame.DataFrame'>\n",
      "Index: 2223 entries, 0 to 2362\n",
      "Data columns (total 7 columns):\n",
      " #   Column          Non-Null Count  Dtype  \n",
      "---  ------          --------------  -----  \n",
      " 0   DI              2223 non-null   int64  \n",
      " 1   TradeValue      2223 non-null   float64\n",
      " 2   RealmType       2223 non-null   object \n",
      " 3   Enclave         2223 non-null   object \n",
      " 4   LivingQuarters  2223 non-null   float64\n",
      " 5   ParcelSize      2223 non-null   float64\n",
      " 6   ParcelSizeUnit  2223 non-null   object \n",
      "dtypes: float64(3), int64(1), object(3)\n",
      "memory usage: 138.9+ KB\n",
      "None\n"
     ]
    }
   ],
   "source": [
    "# 删除包含缺失值的行\n",
    "dfx = dfx.dropna()\n",
    "print(\"删除缺失值后，数据行数:\", len(dfx))\n",
    "print(dfx.info())"
   ]
  },
  {
   "cell_type": "markdown",
   "metadata": {},
   "source": [
    "第三步，检查和统一字符串格式：<br>\n",
    "用 `unique()` 检查RealmType、Enclave和ParcelSizeUnit的唯一值。<br>\n",
    "用 `str.lower()` 统一大小写，防止拼写不一致（如“Glimmerwood” vs “glimmerwood”）。<br>\n",
    "用 `str.replace()` 修正可能的拼写错误。"
   ]
  },
  {
   "cell_type": "code",
   "execution_count": 55,
   "metadata": {},
   "outputs": [
    {
     "name": "stdout",
     "output_type": "stream",
     "text": [
      "RealmType 唯一值: ['Meadowlands' 'GnomeBurough' 'AetherIsles' 'ArcaneMarket'\n",
      " 'CitadelQuarter']\n",
      "Enclave 唯一值: ['Brightforge' 'Petalbridge' 'Silverglen' 'Thornfield' 'Shadowmere'\n",
      " 'Dragonspire' 'Mossheart' 'Mystvale' 'Sunspire' 'Crystalhollow'\n",
      " 'Dreamweaver' 'Emberfall' 'Wyverncliff' 'Wolfsbane' 'Nighthaven'\n",
      " 'Riverbend' 'Stormwatch' 'Duskwood' 'Stormhold' 'Glimmerwood'\n",
      " 'glimmerwood' 'Ravenstone' 'Starfall' 'Windwhisper' 'Verdantia'\n",
      " 'Cloudrest' 'PETALBRIDGE' 'Oakenshade' 'Dragonspires' 'SHADOWMERE'\n",
      " 'Brightforges' 'ravenstone' 'DRAGONSPIRE' 'duskwood' 'STARFALL'\n",
      " 'SUNSPIRE' 'windwhisper' 'petalbridge' 'Moonglade' 'emberfall'\n",
      " 'wyverncliff' 'BRIGHTFORGE' 'EMBERFALL' 'SILVERGLEN' 'GLIMMERWOOD'\n",
      " 'RAVENSTONE']\n",
      "ParcelSizeUnit 唯一值: ['sqft' 'sqm']\n"
     ]
    }
   ],
   "source": [
    "# 检查唯一值\n",
    "print(\"RealmType 唯一值:\", dfx['RealmType'].unique())\n",
    "print(\"Enclave 唯一值:\", dfx['Enclave'].unique())\n",
    "print(\"ParcelSizeUnit 唯一值:\", dfx['ParcelSizeUnit'].unique())"
   ]
  },
  {
   "cell_type": "markdown",
   "metadata": {},
   "source": [
    "从以上检查能发现：<br>\n",
    "Enclave 列中有很多值存在大小写不同的问题，比如Starfall/STARFALL，并且还有单复数拼写错误，比如Brightforges/Brightforge，Dragonspires/Dragonspire。<br>\n",
    "而 ParcelSizeUnit 列有两种单位，sqft 和 sqm。"
   ]
  },
  {
   "cell_type": "code",
   "execution_count": 58,
   "metadata": {},
   "outputs": [
    {
     "name": "stdout",
     "output_type": "stream",
     "text": [
      "修正后 Enclave 唯一值: ['brightforge' 'petalbridge' 'silverglen' 'thornfield' 'shadowmere'\n",
      " 'dragonspire' 'mossheart' 'mystvale' 'sunspire' 'crystalhollow'\n",
      " 'dreamweaver' 'emberfall' 'wyverncliff' 'wolfsbane' 'nighthaven'\n",
      " 'riverbend' 'stormwatch' 'duskwood' 'stormhold' 'glimmerwood'\n",
      " 'ravenstone' 'starfall' 'windwhisper' 'verdantia' 'cloudrest'\n",
      " 'oakenshade' 'moonglade']\n",
      "修正后 ParcelSizeUnit 唯一值: ['sqft']\n"
     ]
    }
   ],
   "source": [
    "# 先统一 Enclave 列的值的大小写\n",
    "dfx['Enclave'] = dfx['Enclave'].str.lower()\n",
    "\n",
    "# 再修正 Enclave 列的拼写错误\n",
    "dfx['Enclave'] = dfx['Enclave'].str.replace('brightforges', 'brightforge')\n",
    "dfx['Enclave'] = dfx['Enclave'].str.replace('dragonspires', 'dragonspire')\n",
    "# 以及，将 ParcelSizeUnit 列的两种单位统一成 sqft 这一种 \n",
    "dfx['ParcelSizeUnit'] = dfx['ParcelSizeUnit'].str.replace('sqm', 'sqft')\n",
    "\n",
    "# 最后，检查修正完的结果\n",
    "print(\"修正后 Enclave 唯一值:\", dfx['Enclave'].unique())\n",
    "print(\"修正后 ParcelSizeUnit 唯一值:\", dfx['ParcelSizeUnit'].unique())"
   ]
  },
  {
   "cell_type": "markdown",
   "metadata": {},
   "source": [
    "第四步，移除异常值。<br>\n",
    "此处有两个不合理的值：TradeValue 列中最小值为85，但是房子不太可能卖这么便宜；ParcelSize 列中有负数值，但地块面积不可能为负数。"
   ]
  },
  {
   "cell_type": "code",
   "execution_count": null,
   "metadata": {},
   "outputs": [
    {
     "name": "stdout",
     "output_type": "stream",
     "text": [
      "移除异常值后，数据行数: 2202\n"
     ]
    }
   ],
   "source": [
    "# 使用条件，将不合理的行直接删掉：假设房子售价至少大于500，且面积一定是正数。\n",
    "dfx = dfx[(dfx['TradeValue'] >= 500) & (dfx['ParcelSize'] > 0)]\n",
    "print(\"移除异常值后，数据行数:\", len(dfx))"
   ]
  },
  {
   "cell_type": "markdown",
   "metadata": {},
   "source": [
    "第五步，验证清理结果，并将清理完的数据保存为新的数据集。"
   ]
  },
  {
   "cell_type": "code",
   "execution_count": 63,
   "metadata": {},
   "outputs": [
    {
     "name": "stdout",
     "output_type": "stream",
     "text": [
      "清理后的数据信息:\n",
      "<class 'pandas.core.frame.DataFrame'>\n",
      "Index: 2202 entries, 0 to 2362\n",
      "Data columns (total 7 columns):\n",
      " #   Column          Non-Null Count  Dtype  \n",
      "---  ------          --------------  -----  \n",
      " 0   DI              2202 non-null   int64  \n",
      " 1   TradeValue      2202 non-null   float64\n",
      " 2   RealmType       2202 non-null   object \n",
      " 3   Enclave         2202 non-null   object \n",
      " 4   LivingQuarters  2202 non-null   float64\n",
      " 5   ParcelSize      2202 non-null   float64\n",
      " 6   ParcelSizeUnit  2202 non-null   object \n",
      "dtypes: float64(3), int64(1), object(3)\n",
      "memory usage: 137.6+ KB\n",
      "None\n",
      "\n",
      "清理后的统计描述:\n",
      "                DI     TradeValue  LivingQuarters     ParcelSize\n",
      "count  2202.000000    2202.000000     2202.000000    2202.000000\n",
      "mean   1169.335150  181567.430064     1154.182561    9988.664908\n",
      "std     673.790267   81523.525077      391.559154    7335.356924\n",
      "min       0.000000   12789.000000      256.000000     175.586670\n",
      "25%     583.250000  129862.500000      866.000000    7291.500000\n",
      "50%    1169.500000  160000.000000     1113.000000    9375.000000\n",
      "75%    1752.750000  213000.000000     1338.000000   11500.000000\n",
      "max    2339.000000  755000.000000     4339.000000  164660.000000\n"
     ]
    }
   ],
   "source": [
    "# 最终数据概览\n",
    "print(\"清理后的数据信息:\")\n",
    "print(dfx.info())\n",
    "print(\"\\n清理后的统计描述:\")\n",
    "print(dfx.describe())\n",
    "\n",
    "# 保存清理后的数据\n",
    "dfx.to_csv('../self-study/dataset/set13_it1_cleaned.csv', index=False)"
   ]
  }
 ],
 "metadata": {
  "kernelspec": {
   "display_name": "base",
   "language": "python",
   "name": "python3"
  },
  "language_info": {
   "codemirror_mode": {
    "name": "ipython",
    "version": 3
   },
   "file_extension": ".py",
   "mimetype": "text/x-python",
   "name": "python",
   "nbconvert_exporter": "python",
   "pygments_lexer": "ipython3",
   "version": "3.12.7"
  }
 },
 "nbformat": 4,
 "nbformat_minor": 2
}
